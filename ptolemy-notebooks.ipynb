{
  "cells": [
    {
      "cell_type": "code",
      "source": [],
      "outputs": [],
      "execution_count": null,
      "metadata": {
        "collapsed": false,
        "jupyter": {
          "source_hidden": false,
          "outputs_hidden": false
        },
        "nteract": {
          "transient": {
            "deleting": false
          }
        }
      }
    },
    {
      "cell_type": "markdown",
      "source": [
        "# Ptolemy\n",
        "\n",
        "- [Data from Ptolemy's *Geography*](geography/parse.ipynb)"
      ],
      "metadata": {
        "nteract": {
          "transient": {
            "deleting": false
          }
        }
      }
    }
  ],
  "metadata": {
    "kernel_info": {
      "name": "scala212"
    },
    "language_info": {
      "name": "scala212"
    },
    "kernelspec": {
      "argv": [
        "java",
        "-jar",
        "/Users/neelsmith/Library/Jupyter/kernels/scala212/launcher.jar",
        "--id",
        "scala212",
        "--connection-file",
        "{connection_file}"
      ],
      "display_name": "Scala212 (almond)",
      "language": "scala",
      "name": "scala212"
    },
    "nteract": {
      "version": "0.21.0"
    }
  },
  "nbformat": 4,
  "nbformat_minor": 0
}