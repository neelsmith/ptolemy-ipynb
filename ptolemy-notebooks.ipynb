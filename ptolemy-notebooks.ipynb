{
 "cells": [
  {
   "cell_type": "markdown",
   "metadata": {
    "nteract": {
     "transient": {
      "deleting": false
     }
    }
   },
   "source": [
    "# Ptolemy\n",
    "\n",
    "\n",
    "The *Geography*\n",
    "\n",
    "- [Parse data from a TEI edition](geography/parse.ipynb) of Ptolemy's *Geography*\n",
    "- [Precision of longitude and latitude values](geography/precision.ipynb)\n",
    "- [Scaling adjusting Ptolemy's longitude-latitude values](geography/scaled.ipynb)"
   ]
  }
 ],
 "metadata": {
  "kernel_info": {
   "name": "scala212"
  },
  "kernelspec": {
   "display_name": "Scala (2.12)",
   "language": "scala",
   "name": "scala212"
  },
  "language_info": {
   "codemirror_mode": "text/x-scala",
   "file_extension": ".scala",
   "mimetype": "text/x-scala",
   "name": "scala",
   "nbconvert_exporter": "script",
   "version": "2.12.10"
  },
  "nteract": {
   "version": "0.21.0"
  }
 },
 "nbformat": 4,
 "nbformat_minor": 1
}
