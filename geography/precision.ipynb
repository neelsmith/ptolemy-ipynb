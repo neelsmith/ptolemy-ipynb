{
 "cells": [
  {
   "cell_type": "markdown",
   "metadata": {
    "nteract": {
     "transient": {
      "deleting": false
     }
    }
   },
   "source": [
    "# Ptolemy's *Geography*\n",
    "\n",
    "This notebook loads a TEI edition of Ptolemy's *Geography*, and extracts a database of points with longitude-latitude locations from it.\n"
   ]
  },
  {
   "cell_type": "markdown",
   "metadata": {},
   "source": [
    "## Notebook configuration"
   ]
  },
  {
   "cell_type": "code",
   "execution_count": 1,
   "metadata": {},
   "outputs": [
    {
     "data": {
      "text/plain": [
       "\u001b[36mmyBT\u001b[39m: \u001b[32mcoursierapi\u001b[39m.\u001b[32mMavenRepository\u001b[39m = MavenRepository(https://dl.bintray.com/neelsmith/maven)"
      ]
     },
     "execution_count": 1,
     "metadata": {},
     "output_type": "execute_result"
    }
   ],
   "source": [
    "// 1. Add maven repository where we can find our libraries\n",
    "val myBT = coursierapi.MavenRepository.of(\"https://dl.bintray.com/neelsmith/maven\")\n",
    "interp.repositories() ++= Seq(myBT)"
   ]
  },
  {
   "cell_type": "code",
   "execution_count": 2,
   "metadata": {},
   "outputs": [
    {
     "data": {
      "text/plain": [
       "\u001b[32mimport \u001b[39m\u001b[36m$ivy.$                                  \u001b[39m"
      ]
     },
     "execution_count": 2,
     "metadata": {},
     "output_type": "execute_result"
    }
   ],
   "source": [
    "// 2. Make libraries available with `$ivy` imports:\n",
    "import $ivy.`edu.holycross.shot::ptolemy:1.2.1`"
   ]
  },
  {
   "cell_type": "markdown",
   "metadata": {},
   "source": [
    "## Retrieve and parse TEI edition"
   ]
  },
  {
   "cell_type": "code",
   "execution_count": 3,
   "metadata": {},
   "outputs": [
    {
     "data": {
      "text/plain": [
       "\u001b[32mimport \u001b[39m\u001b[36mscala.xml._\n",
       "\n",
       "\u001b[39m\n",
       "\u001b[36murl\u001b[39m: \u001b[32mString\u001b[39m = \u001b[32m\"https://raw.githubusercontent.com/neelsmith/ptolemy/master/tei/tlg0363.tlg009.epist03-p5-u8.xml\"\u001b[39m\n",
       "\u001b[36mroot\u001b[39m: \u001b[32mElem\u001b[39m = <TEI xmlns=\"http://www.tei-c.org/ns/1.0\">\n",
       "    <teiHeader>\n",
       "        <fileDesc>\n",
       "            <titleStmt>\n",
       "                <title>Ptolemy, Geography</title>\n",
       "            </titleStmt>\n",
       "            <publicationStmt>\n",
       "                <p>E-text</p>\n",
       "            </publicationStmt>\n",
       "            <sourceDesc>\n",
       "                <p>Composite based on print editions of Müller and Nobbe.</p>\n",
       "            </sourceDesc>\n",
       "        </fileDesc>\n",
       "        <profileDesc>\n",
       "            <langUsage>\n",
       "                <language ident=\"grc\">Greek</language>\n",
       "                <language ident=\"eng\">English</language>\n",
       "            </langUsage>\n",
       "        </profileDesc>\n",
       "    </teiHeader>\n",
       "    <text>\n",
       "        <body xml:lang=\"grc\">\n",
       "\n",
       "\n",
       "            <interpGrp type=\"continents\">\n",
       "                <interp xml:id=\"Europe\"/>\n",
       "                <interp xml:id=\"Asia\"/>\n",
       "                <interp xml:id=\"Libya\"/>\n",
       "            </interpGrp>\n",
       "\n",
       "            <interpGrp type=\"provinces-satrapies\">\n",
       "                <interp xml:id=\"narbonensis\"/>\n",
       "                <interp xml:id=\"hibernia\"/>\n",
       "                <interp xml:id=\"albion\"/>\n",
       "                <interp xml:id=\"baetica\"/>\n",
       "                <interp xml:id=\"tarraconensis\"/>\n",
       "                <interp xml:id=\"lusitania\"/>\n",
       "                <interp xml:id=\"aquitania\"/>\n",
       "                <interp xml:id=\"lugdunensis\"/>\n",
       "..."
      ]
     },
     "execution_count": 3,
     "metadata": {},
     "output_type": "execute_result"
    }
   ],
   "source": [
    "import scala.xml._\n",
    "\n",
    "val url = \"https://raw.githubusercontent.com/neelsmith/ptolemy/master/tei/tlg0363.tlg009.epist03-p5-u8.xml\"\n",
    "val root = XML.load(url)"
   ]
  },
  {
   "cell_type": "code",
   "execution_count": 10,
   "metadata": {
    "collapsed": true
   },
   "outputs": [
    {
     "name": "stderr",
     "output_type": "stream",
     "text": [
      "\u001b[34m2020-02-21 10:36:59.677Z\u001b[0m \u001b[31merror\u001b[0m [\u001b[37mTeiParser\u001b[0m] \u001b[31mNo name element in \u001b[0m  \u001b[34m- (TeiParser.scala:98)\u001b[0m\n",
      "\u001b[34m2020-02-21 10:36:59.680Z\u001b[0m \u001b[31merror\u001b[0m [\u001b[37mTeiParser\u001b[0m] \u001b[31mNo name element in \u001b[0m  \u001b[34m- (TeiParser.scala:98)\u001b[0m\n",
      "\u001b[34m2020-02-21 10:36:59.681Z\u001b[0m \u001b[31merror\u001b[0m [\u001b[37mTeiParser\u001b[0m] \u001b[31mNo name element in \u001b[0m  \u001b[34m- (TeiParser.scala:98)\u001b[0m\n",
      "\u001b[34m2020-02-21 10:36:59.681Z\u001b[0m \u001b[31merror\u001b[0m [\u001b[37mTeiParser\u001b[0m] \u001b[31mNo name element in \u001b[0m  \u001b[34m- (TeiParser.scala:98)\u001b[0m\n"
     ]
    },
    {
     "data": {
      "text/plain": [
       "\u001b[32mimport \u001b[39m\u001b[36medu.holycross.shot.ptolemy._\n",
       "\n",
       "\u001b[39m\n",
       "\u001b[36mdelimited\u001b[39m: \u001b[32mVector\u001b[39m[\u001b[32mString\u001b[39m] = \u001b[33mVector\u001b[39m(\n",
       "  \u001b[32m\"2.2.1#Europe#hibernia#paralios#pt_ll_1#\\u0392\\u1f79\\u03c1\\u03b5\\u03b9\\u03bf\\u\u001b[39m...\n",
       "\u001b[36mptolStrings\u001b[39m: \u001b[32mVector\u001b[39m[\u001b[32mPtolemyString\u001b[39m] = \u001b[33mVector\u001b[39m(\n",
       "  \u001b[33mPtolemyString\u001b[39m(\n",
       "..."
      ]
     },
     "execution_count": 10,
     "metadata": {},
     "output_type": "execute_result"
    }
   ],
   "source": [
    "import edu.holycross.shot.ptolemy._\n",
    "\n",
    "val delimited = TeiParser.parseTEI(root, false)\n",
    "val ptolStrings = delimited.map(ln => PtolemyString(ln)).filter(_.id.nonEmpty)\n"
   ]
  },
  {
   "cell_type": "markdown",
   "metadata": {},
   "source": [
    "## Precision\n",
    "\n",
    "Collect fractional values to infer implied precision.\n"
   ]
  },
  {
   "cell_type": "code",
   "execution_count": 11,
   "metadata": {
    "collapsed": true
   },
   "outputs": [
    {
     "data": {
      "text/plain": [
       "\u001b[36mlonPrecision\u001b[39m: \u001b[32mVector\u001b[39m[(\u001b[32mString\u001b[39m, \u001b[32mInt\u001b[39m)] = \u001b[33mVector\u001b[39m(\n",
       "  (\u001b[32m\"0.0\"\u001b[39m, \u001b[32m2107\u001b[39m),\n",
       "...\n",
       "\u001b[36mlatPrecision\u001b[39m: \u001b[32mVector\u001b[39m[(\u001b[32mString\u001b[39m, \u001b[32mInt\u001b[39m)] = \u001b[33mVector\u001b[39m(\n",
       "  (\u001b[32m\"0.0\"\u001b[39m, \u001b[32m1326\u001b[39m),\n",
       "..."
      ]
     },
     "execution_count": 11,
     "metadata": {},
     "output_type": "execute_result"
    }
   ],
   "source": [
    "val lonPrecision = ptolStrings.groupBy( pt => pt.lonFract).toVector.sortBy(_._1).map{ case (k,v) => (k,v.size)}\n",
    "val latPrecision = ptolStrings.groupBy( pt => pt.latFract).toVector.sortBy(_._1).map{ case (k,v) => (k,v.size)}"
   ]
  },
  {
   "cell_type": "markdown",
   "metadata": {},
   "source": [
    "Configure `plotly` library to visualize:"
   ]
  },
  {
   "cell_type": "code",
   "execution_count": 6,
   "metadata": {},
   "outputs": [
    {
     "data": {
      "text/plain": [
       "\u001b[32mimport \u001b[39m\u001b[36m$ivy.$                                      \u001b[39m"
      ]
     },
     "execution_count": 6,
     "metadata": {},
     "output_type": "execute_result"
    }
   ],
   "source": [
    "// Make plotly libraries available to this notebook:\n",
    "import $ivy.`org.plotly-scala::plotly-almond:0.7.1`"
   ]
  },
  {
   "cell_type": "code",
   "execution_count": 7,
   "metadata": {},
   "outputs": [
    {
     "data": {
      "text/plain": [
       "\u001b[32mimport \u001b[39m\u001b[36mplotly._, plotly.element._, plotly.layout._, plotly.Almond._\n",
       "\u001b[39m"
      ]
     },
     "execution_count": 7,
     "metadata": {},
     "output_type": "execute_result"
    }
   ],
   "source": [
    "// Import plotly libraries, and set display defaults suggested for use in Jupyter NBs:\n",
    "import plotly._, plotly.element._, plotly.layout._, plotly.Almond._\n",
    "repl.pprinter() = repl.pprinter().copy(defaultHeight = 3)"
   ]
  },
  {
   "cell_type": "code",
   "execution_count": 15,
   "metadata": {},
   "outputs": [
    {
     "name": "stdout",
     "output_type": "stream",
     "text": [
      "Vector(0.0, 0.083, 0.167, 0.25, 0.333, 0.417, 0.5, 0.583, 0.667, 0.75, 0.833, 0.917)\n"
     ]
    }
   ],
   "source": [
    "val fractionLabels = \n",
    "Map (\"0.0\" -> \"0\", \n",
    "     \"0.083\" -> \"1/12\", \n",
    "     \"0.167\" -> \"1/6\", \n",
    "     \"0.25\" -> \"1/4\", \n",
    "     \"0.333\" -> \"1/3\", \n",
    "     \"0.417\" -> \"5/12\", \n",
    "     \"0.5\" -> \"1/2\", \n",
    "     \"0.583\" -> \"7/12\", \n",
    "     \"0.667\" -> \"2/3\", \n",
    "     \"0.75\" -> \"3/4\", \n",
    "     \"0.833\" -> \"5/6\", \n",
    "     \"0.917\" -> \"11/12\")\n"
   ]
  },
  {
   "cell_type": "code",
   "execution_count": null,
   "metadata": {},
   "outputs": [],
   "source": [
    "\n",
    "val lonValues = lonPrecision.map(freq => fractionLabels(freq._1))\n",
    "val lonCounts = lonPrecision.map(freq => freq._2)\n",
    "\n",
    "val lonFreqs = Vector(\n",
    "  Bar(x = lonValues, y = lonCounts)\n",
    ")\n",
    "plot(lonFreqs)"
   ]
  },
  {
   "cell_type": "code",
   "execution_count": null,
   "metadata": {},
   "outputs": [],
   "source": [
    "/*\n",
    "val latValues = latPrecision.map(freq => freq._1)\n",
    "val latCounts = latPrecision.map(freq => freq._2)\n",
    "\n",
    "val latFreqs = Vector(\n",
    "  Bar(x = latValues, y = latCounts)\n",
    ")\n",
    "plot(latFreqs)\n",
    "*/"
   ]
  }
 ],
 "metadata": {
  "kernel_info": {
   "name": "node_nteract"
  },
  "kernelspec": {
   "display_name": "Scala (2.12)",
   "language": "scala",
   "name": "scala212"
  },
  "language_info": {
   "codemirror_mode": "text/x-scala",
   "file_extension": ".scala",
   "mimetype": "text/x-scala",
   "name": "scala",
   "nbconvert_exporter": "script",
   "version": "2.12.10"
  },
  "nteract": {
   "version": "0.21.0"
  }
 },
 "nbformat": 4,
 "nbformat_minor": 1
}
