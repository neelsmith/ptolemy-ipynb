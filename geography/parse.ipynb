{
  "cells": [
    {
      "cell_type": "markdown",
      "source": [
        "# Ptolemy's *Geography*\n",
        "\n",
        "This notebook loads a TEI edition of Ptolemy's *Geography*, and extracts a database of points with longitude-latitude locations from it.\n"
      ],
      "metadata": {
        "nteract": {
          "transient": {
            "deleting": false
          }
        }
      }
    },
    {
      "cell_type": "markdown",
      "source": [
        "## Notebook configuration"
      ],
      "metadata": {}
    },
    {
      "cell_type": "code",
      "source": [
        "// 1. Add maven repository where we can find our libraries\n",
        "val myBT = coursierapi.MavenRepository.of(\"https://dl.bintray.com/neelsmith/maven\")\n",
        "interp.repositories() ++= Seq(myBT)"
      ],
      "outputs": [],
      "execution_count": null,
      "metadata": {}
    },
    {
      "cell_type": "code",
      "source": [
        "// 2. Make libraries available with `$ivy` imports:\n",
        "import $ivy.`edu.holycross.shot::ptolemy:1.2.1`"
      ],
      "outputs": [],
      "execution_count": null,
      "metadata": {}
    },
    {
      "cell_type": "markdown",
      "source": [
        "## Retrieve and parse TEI edition"
      ],
      "metadata": {}
    },
    {
      "cell_type": "code",
      "source": [
        "import scala.xml._\n",
        "\n",
        "val url = \"https://raw.githubusercontent.com/neelsmith/ptolemy/master/tei/tlg0363.tlg009.epist03-p5-u8.xml\"\n",
        "val root = XML.load(url)"
      ],
      "outputs": [],
      "execution_count": null,
      "metadata": {}
    },
    {
      "cell_type": "code",
      "source": [
        "import edu.holycross.shot.ptolemy._\n",
        "\n",
        "val delimited = TeiParser.parseTEI(root)\n",
        "val ptolStrings = delimited.map(ln => PtolemyString(ln))"
      ],
      "outputs": [],
      "execution_count": null,
      "metadata": {}
    },
    {
      "cell_type": "code",
      "source": [
        "delimited.size\n",
        "ptolStrings.size"
      ],
      "outputs": [],
      "execution_count": null,
      "metadata": {}
    }
  ],
  "metadata": {
    "kernel_info": {
      "name": "node_nteract"
    },
    "kernelspec": {
      "display_name": "Scala (2.12)",
      "language": "scala",
      "name": "scala212"
    },
    "language_info": {
      "codemirror_mode": "text/x-scala",
      "file_extension": ".scala",
      "mimetype": "text/x-scala",
      "name": "scala",
      "nbconvert_exporter": "script",
      "version": "2.12.10"
    },
    "nteract": {
      "version": "0.21.0"
    }
  },
  "nbformat": 4,
  "nbformat_minor": 1
}