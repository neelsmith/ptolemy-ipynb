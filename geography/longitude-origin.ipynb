{
 "cells": [
  {
   "cell_type": "markdown",
   "metadata": {},
   "source": [
    "# Origin of longitude\n"
   ]
  },
  {
   "cell_type": "code",
   "execution_count": 1,
   "metadata": {},
   "outputs": [
    {
     "data": {
      "text/plain": [
       "\u001b[36mmyBT\u001b[39m: \u001b[32mcoursierapi\u001b[39m.\u001b[32mMavenRepository\u001b[39m = MavenRepository(https://dl.bintray.com/neelsmith/maven)"
      ]
     },
     "execution_count": 1,
     "metadata": {},
     "output_type": "execute_result"
    }
   ],
   "source": [
    "// 1. Add maven repository where we can find our libraries\n",
    "val myBT = coursierapi.MavenRepository.of(\"https://dl.bintray.com/neelsmith/maven\")\n",
    "interp.repositories() ++= Seq(myBT)"
   ]
  },
  {
   "cell_type": "code",
   "execution_count": 2,
   "metadata": {},
   "outputs": [
    {
     "data": {
      "text/plain": [
       "\u001b[32mimport \u001b[39m\u001b[36m$ivy.$                                  \u001b[39m"
      ]
     },
     "execution_count": 2,
     "metadata": {},
     "output_type": "execute_result"
    }
   ],
   "source": [
    "// 2. Make libraries available with `$ivy` imports:\n",
    "import $ivy.`edu.holycross.shot::ptolemy:1.2.1`"
   ]
  },
  {
   "cell_type": "code",
   "execution_count": 3,
   "metadata": {
    "collapsed": true
   },
   "outputs": [
    {
     "data": {
      "text/plain": [
       "\u001b[32mimport \u001b[39m\u001b[36mscala.xml._\n",
       "\n",
       "\u001b[39m\n",
       "\u001b[36murl\u001b[39m: \u001b[32mString\u001b[39m = \u001b[32m\"https://raw.githubusercontent.com/neelsmith/ptolemy/master/tei/tlg0363.tlg009.epist03-p5-u8.xml\"\u001b[39m\n",
       "\u001b[36mroot\u001b[39m: \u001b[32mElem\u001b[39m = <TEI xmlns=\"http://www.tei-c.org/ns/1.0\">\n",
       "    <teiHeader>\n",
       "        <fileDesc>\n",
       "            <titleStmt>\n",
       "                <title>Ptolemy, Geography</title>\n",
       "            </titleStmt>\n",
       "            <publicationStmt>\n",
       "                <p>E-text</p>\n",
       "            </publicationStmt>\n",
       "            <sourceDesc>\n",
       "                <p>Composite based on print editions of Müller and Nobbe.</p>\n",
       "            </sourceDesc>\n",
       "        </fileDesc>\n",
       "        <profileDesc>\n",
       "            <langUsage>\n",
       "                <language ident=\"grc\">Greek</language>\n",
       "                <language ident=\"eng\">English</language>\n",
       "            </langUsage>\n",
       "        </profileDesc>\n",
       "    </teiHeader>\n",
       "    <text>\n",
       "        <body xml:lang=\"grc\">\n",
       "\n",
       "\n",
       "            <interpGrp type=\"continents\">\n",
       "                <interp xml:id=\"Europe\"/>\n",
       "                <interp xml:id=\"Asia\"/>\n",
       "                <interp xml:id=\"Libya\"/>\n",
       "            </interpGrp>\n",
       "\n",
       "            <interpGrp type=\"provinces-satrapies\">\n",
       "                <interp xml:id=\"narbonensis\"/>\n",
       "                <interp xml:id=\"hibernia\"/>\n",
       "                <interp xml:id=\"albion\"/>\n",
       "                <interp xml:id=\"baetica\"/>\n",
       "                <interp xml:id=\"tarraconensis\"/>\n",
       "                <interp xml:id=\"lusitania\"/>\n",
       "                <interp xml:id=\"aquitania\"/>\n",
       "                <interp xml:id=\"lugdunensis\"/>\n",
       "..."
      ]
     },
     "execution_count": 3,
     "metadata": {},
     "output_type": "execute_result"
    }
   ],
   "source": [
    "import scala.xml._\n",
    "\n",
    "val url = \"https://raw.githubusercontent.com/neelsmith/ptolemy/master/tei/tlg0363.tlg009.epist03-p5-u8.xml\"\n",
    "val root = XML.load(url)"
   ]
  },
  {
   "cell_type": "code",
   "execution_count": 4,
   "metadata": {
    "collapsed": true
   },
   "outputs": [
    {
     "name": "stderr",
     "output_type": "stream",
     "text": [
      "\u001b[34m2020-02-21 17:47:44.939Z\u001b[0m \u001b[31merror\u001b[0m [\u001b[37mTeiParser\u001b[0m] \u001b[31mNo name element in \u001b[0m  \u001b[34m- (TeiParser.scala:98)\u001b[0m\n",
      "\u001b[34m2020-02-21 17:47:45.038Z\u001b[0m \u001b[31merror\u001b[0m [\u001b[37mTeiParser\u001b[0m] \u001b[31mNo name element in \u001b[0m  \u001b[34m- (TeiParser.scala:98)\u001b[0m\n",
      "\u001b[34m2020-02-21 17:47:45.040Z\u001b[0m \u001b[31merror\u001b[0m [\u001b[37mTeiParser\u001b[0m] \u001b[31mNo name element in \u001b[0m  \u001b[34m- (TeiParser.scala:98)\u001b[0m\n",
      "\u001b[34m2020-02-21 17:47:45.042Z\u001b[0m \u001b[31merror\u001b[0m [\u001b[37mTeiParser\u001b[0m] \u001b[31mNo name element in \u001b[0m  \u001b[34m- (TeiParser.scala:98)\u001b[0m\n"
     ]
    },
    {
     "data": {
      "text/plain": [
       "\u001b[32mimport \u001b[39m\u001b[36medu.holycross.shot.ptolemy._\n",
       "\n",
       "\u001b[39m\n",
       "\u001b[36mdelimited\u001b[39m: \u001b[32mVector\u001b[39m[\u001b[32mString\u001b[39m] = \u001b[33mVector\u001b[39m(\n",
       "  \u001b[32m\"2.2.1#Europe#hibernia#paralios#pt_ll_1#\\u0392\\u1f79\\u03c1\\u03b5\\u03b9\\u03bf\\u03bd \\u1f04\\u03ba\\u03c1\\u03bf\\u03bd#\\u03b9\\u03b1\\u02b9#\\u03be\\u03b1\\u02b9#11.0#11#0.0#61.0#61#0.0\"\u001b[39m,\n",
       "  \u001b[32m\"2.2.1#Europe#hibernia#paralios#pt_ll_2#\\u039f\\u1f50\\u03b5\\u03bd\\u03bd\\u1f77\\u03ba\\u03bd\\u03b9\\u03bf\\u03bd \\u1f04\\u03ba\\u03c1\\u03bf\\u03bd#\\u03b9\\u03b2\\u02b9\\u03b2  \\u03b3\\\"#\\u03be\\u03b1\\u02b9\\u03b3\\\"#12.833#12#0.833#61.333#61#0.333\"\u001b[39m,\n",
       "  \u001b[32m\"2.2.1#Europe#hibernia#paralios#pt_ll_3#\\u039f\\u1f50\\u03b9\\u03b4\\u03bf\\u1f7b\\u03b1 \\u03c0\\u03bf\\u03c4\\u03b1\\u03bc\\u03bf\\u1fe6 \\u1f10\\u03ba\\u03b2\\u03bf\\u03bb\\u03b1\\u1f77#\\u03b9\\u03b3\\u02b9#\\u03be\\u03b1\\u02b9#13.0#13#0.0#61.0#61#0.0\"\u001b[39m,\n",
       "  \u001b[32m\"2.2.1#Europe#hibernia#paralios#pt_ll_4#\\u1f08\\u03c1\\u03b3\\u1f77\\u03c4\\u03b1 \\u03c0\\u03bf\\u03c4\\u03b1\\u03bc\\u03bf\\u1fe6 \\u1f10\\u03ba\\u03b2\\u03bf\\u03bb\\u03b1\\u1f77#\\u03b9\\u03b4\\u02b9\\u03b2\\\"#\\u03be\\u03b1\\u02b9\\u03b2\\\"#14.5#14#0.5#61.5#61#0.5\"\u001b[39m,\n",
       "  \u001b[32m\"2.2.1#Europe#hibernia#paralios#pt_ll_5#\\u1fec\\u03bf\\u03b2\\u1f79\\u03b3\\u03b4\\u03b9\\u03bf\\u03bd \\u1f04\\u03ba\\u03c1\\u03bf\\u03bd#\\u03b9\\u03db\\u02b9\\u03b3\\\"#\\u03be\\u03b1\\u02b9\\u03b2\\\"#16.333#16#0.333#61.5#61#0.5\"\u001b[39m,\n",
       "  \u001b[32m\"2.2.3#Europe#hibernia#paralios#pt_ll_6# \\u03c4\\u1f78 \\u0392\\u1f79\\u03c1\\u03b5\\u03b9\\u03bf\\u03bd \\u1f04\\u03ba\\u03c1\\u03bf\\u03bd#\\u03b9\\u03b1\\u02b9#\\u03be\\u03b1\\u02b9#11.0#11#0.0#61.0#61#0.0\"\u001b[39m,\n",
       "  \u001b[32m\"2.2.3#Europe#hibernia#paralios#pt_ll_7#\\u1fec\\u03b1\\u03bf\\u03c5\\u1f77\\u03bf\\u03c5 \\u03c0\\u03bf\\u03c4\\u03b1\\u03bc\\u03bf\\u1fe6 \\u1f10\\u03ba\\u03b2\\u03bf\\u03bb\\u03b1\\u1f77#\\u03b9\\u03b1\\u02b9\\u03b3\\\"#\\u03be\\u02b9\\u03b2 \\u03db\\\"#11.333#11#0.333#60.667#60#0.667\"\u001b[39m,\n",
       "  \u001b[32m\"2.2.3#Europe#hibernia#paralios#pt_ll_8#\\u039c\\u1f71\\u03b3\\u03bd\\u03b1\\u03c4\\u03b1 \\u03c0\\u1f79\\u03bb\\u03b9\\u03c2 [\\u1f10\\u03c0\\u1f77\\u03c3\\u03b7\\u03bc\\u03bf\\u03c2]#\\u03b9\\u03b1\\u02b9\\u03b4\\\"#\\u03be\\u02b9\\u03b4\\\"#11.25#11#0.25#60.25#60#0.25\"\u001b[39m,\n",
       "  \u001b[32m\"2.2.3#Europe#hibernia#paralios#pt_ll_9#\\u039b\\u03b9\\u03b2\\u03bd\\u1f77\\u03bf\\u03c5 \\u03c0\\u03bf\\u03c4\\u03b1\\u03bc\\u03bf\\u1fe6 \\u1f10\\u03ba\\u03b2\\u03bf\\u03bb\\u03b1\\u1f77#\\u03b9\\u02b9\\u03b2\\\"#\\u03be\\u02b9#10.5#10#0.5#60.0#60#0.0\"\u001b[39m,\n",
       "  \u001b[32m\"2.2.3#Europe#hibernia#paralios#pt_ll_10#\\u0391\\u1f50\\u03c3\\u1f79\\u03b2\\u03b1 \\u03c0\\u03bf\\u03c4\\u03b1\\u03bc\\u03bf\\u1fe6 \\u1f10\\u03ba\\u03b2\\u03bf\\u03bb\\u03b1\\u1f77#\\u03b9\\u02b9\\u03b2\\\"#\\u03bd\\u03b8\\u02b9\\u03b2\\\"#10.5#10#0.5#59.5#59#0.5\"\u001b[39m,\n",
       "  \u001b[32m\"2.2.3#Europe#hibernia#paralios#pt_ll_11#\\u03a3\\u1f75\\u03bd\\u03bf\\u03c5 \\u03c0\\u03bf\\u03c4\\u03b1\\u03bc\\u03bf\\u1fe6 \\u1f10\\u03ba\\u03b2\\u03bf\\u03bb\\u03b1\\u1f77#\\u03b8\\u02b9\\u03b2\\\"#\\u03bd\\u03b8\\u02b9\\u03b2\\\"#9.5#9#0.5#59.5#59#0.5\"\u001b[39m,\n",
       "  \u001b[32m\"2.2.3#Europe#hibernia#paralios#pt_ll_12#\\u0394\\u03bf\\u1f7a\\u03c1 \\u03c0\\u03bf\\u03c4\\u03b1\\u03bc\\u03bf\\u1fe6 \\u1f10\\u03ba\\u03b2\\u03bf\\u03bb\\u03b1\\u1f77#\\u03b8\u001b[39m...\n",
       "\u001b[36mptolStrings\u001b[39m: \u001b[32mVector\u001b[39m[\u001b[32mPtolemyString\u001b[39m] = \u001b[33mVector\u001b[39m(\n",
       "  \u001b[33mPtolemyString\u001b[39m(\n",
       "    \u001b[32m\"2.2.1\"\u001b[39m,\n",
       "    \u001b[32m\"Europe\"\u001b[39m,\n",
       "    \u001b[32m\"hibernia\"\u001b[39m,\n",
       "    \u001b[32m\"paralios\"\u001b[39m,\n",
       "    \u001b[32m\"pt_ll_1\"\u001b[39m,\n",
       "    \u001b[32m\"\\u0392\\u1f79\\u03c1\\u03b5\\u03b9\\u03bf\\u03bd \\u1f04\\u03ba\\u03c1\\u03bf\\u03bd\"\u001b[39m,\n",
       "    \u001b[32m\"\\u03b9\\u03b1\\u02b9\"\u001b[39m,\n",
       "    \u001b[32m\"\\u03be\\u03b1\\u02b9\"\u001b[39m,\n",
       "    \u001b[32m11.0\u001b[39m,\n",
       "    \u001b[32m\"11\"\u001b[39m,\n",
       "    \u001b[32m\"0.0\"\u001b[39m,\n",
       "    \u001b[32m11.0\u001b[39m,\n",
       "    \u001b[32m\"61\"\u001b[39m,\n",
       "    \u001b[32m\"0.0\"\u001b[39m\n",
       "  ),\n",
       "  \u001b[33mPtolemyString\u001b[39m(\n",
       "    \u001b[32m\"2.2.1\"\u001b[39m,\n",
       "    \u001b[32m\"Europe\"\u001b[39m,\n",
       "    \u001b[32m\"hibernia\"\u001b[39m,\n",
       "    \u001b[32m\"paralios\"\u001b[39m,\n",
       "    \u001b[32m\"pt_ll_2\"\u001b[39m,\n",
       "    \u001b[32m\"\\u039f\\u1f50\\u03b5\\u03bd\\u03bd\\u1f77\\u03ba\\u03bd\\u03b9\\u03bf\\u03bd \\u1f04\\u03ba\\u03c1\\u03bf\\u03bd\"\u001b[39m,\n",
       "    \u001b[32m\"\\u03b9\\u03b2\\u02b9\\u03b2  \\u03b3\\\"\"\u001b[39m,\n",
       "    \u001b[32m\"\\u03be\\u03b1\\u02b9\\u03b3\\\"\"\u001b[39m,\n",
       "    \u001b[32m12.833\u001b[39m,\n",
       "    \u001b[32m\"12\"\u001b[39m,\n",
       "    \u001b[32m\"0.833\"\u001b[39m,\n",
       "    \u001b[32m12.0\u001b[39m,\n",
       "    \u001b[32m\"61\"\u001b[39m,\n",
       "    \u001b[32m\"0.333\"\u001b[39m\n",
       "  ),\n",
       "  \u001b[33mPtolemyString\u001b[39m(\n",
       "    \u001b[32m\"2.2.1\"\u001b[39m,\n",
       "    \u001b[32m\"Europe\"\u001b[39m,\n",
       "    \u001b[32m\"hibernia\"\u001b[39m,\n",
       "    \u001b[32m\"paralios\"\u001b[39m,\n",
       "..."
      ]
     },
     "execution_count": 4,
     "metadata": {},
     "output_type": "execute_result"
    }
   ],
   "source": [
    "import edu.holycross.shot.ptolemy._\n",
    "\n",
    "val delimited = TeiParser.parseTEI(root, false)\n",
    "val ptolStrings = delimited.map(ln => PtolemyString(ln))"
   ]
  },
  {
   "cell_type": "code",
   "execution_count": 5,
   "metadata": {},
   "outputs": [
    {
     "data": {
      "text/plain": [
       "defined \u001b[32mclass\u001b[39m \u001b[36mGeoPoint\u001b[39m\n",
       "\u001b[36mratio\u001b[39m: \u001b[32mDouble\u001b[39m = \u001b[32m0.72\u001b[39m"
      ]
     },
     "execution_count": 5,
     "metadata": {},
     "output_type": "execute_result"
    }
   ],
   "source": [
    "case class GeoPoint (lon: Double, lat: Double) {\n",
    "  def cex(delimiter: String = \"#\") = {\n",
    "    Vector(lon, lat).mkString(delimiter)\n",
    "  }\n",
    "}\n",
    "val ratio = 18.0 / 25.0"
   ]
  },
  {
   "cell_type": "code",
   "execution_count": 6,
   "metadata": {
    "collapsed": true
   },
   "outputs": [
    {
     "data": {
      "text/plain": [
       "\u001b[36mscaled\u001b[39m: \u001b[32mVector\u001b[39m[\u001b[32mGeoPoint\u001b[39m] = \u001b[33mVector\u001b[39m(\n",
       "  \u001b[33mGeoPoint\u001b[39m(\u001b[32m7.92\u001b[39m, \u001b[32m7.92\u001b[39m),\n",
       "  \u001b[33mGeoPoint\u001b[39m(\u001b[32m9.23976\u001b[39m, \u001b[32m8.64\u001b[39m),\n",
       "  \u001b[33mGeoPoint\u001b[39m(\u001b[32m9.36\u001b[39m, \u001b[32m9.36\u001b[39m),\n",
       "  \u001b[33mGeoPoint\u001b[39m(\u001b[32m10.44\u001b[39m, \u001b[32m10.08\u001b[39m),\n",
       "  \u001b[33mGeoPoint\u001b[39m(\u001b[32m11.759759999999998\u001b[39m, \u001b[32m11.52\u001b[39m),\n",
       "  \u001b[33mGeoPoint\u001b[39m(\u001b[32m7.92\u001b[39m, \u001b[32m7.92\u001b[39m),\n",
       "  \u001b[33mGeoPoint\u001b[39m(\u001b[32m8.15976\u001b[39m, \u001b[32m7.92\u001b[39m),\n",
       "  \u001b[33mGeoPoint\u001b[39m(\u001b[32m8.1\u001b[39m, \u001b[32m7.92\u001b[39m),\n",
       "  \u001b[33mGeoPoint\u001b[39m(\u001b[32m7.56\u001b[39m, \u001b[32m7.199999999999999\u001b[39m),\n",
       "  \u001b[33mGeoPoint\u001b[39m(\u001b[32m7.56\u001b[39m, \u001b[32m7.199999999999999\u001b[39m),\n",
       "  \u001b[33mGeoPoint\u001b[39m(\u001b[32m6.84\u001b[39m, \u001b[32m6.4799999999999995\u001b[39m),\n",
       "  \u001b[33mGeoPoint\u001b[39m(\u001b[32m6.96024\u001b[39m, \u001b[32m6.4799999999999995\u001b[39m),\n",
       "  \u001b[33mGeoPoint\u001b[39m(\u001b[32m5.76\u001b[39m, \u001b[32m5.76\u001b[39m),\n",
       "  \u001b[33mGeoPoint\u001b[39m(\u001b[32m5.520239999999999\u001b[39m, \u001b[32m5.04\u001b[39m),\n",
       "  \u001b[33mGeoPoint\u001b[39m(\u001b[32m5.520239999999999\u001b[39m, \u001b[32m5.04\u001b[39m),\n",
       "  \u001b[33mGeoPoint\u001b[39m(\u001b[32m8.1\u001b[39m, \u001b[32m7.92\u001b[39m),\n",
       "  \u001b[33mGeoPoint\u001b[39m(\u001b[32m9.0\u001b[39m, \u001b[32m8.64\u001b[39m),\n",
       "  \u001b[33mGeoPoint\u001b[39m(\u001b[32m10.08\u001b[39m, \u001b[32m10.08\u001b[39m),\n",
       "  \u001b[33mGeoPoint\u001b[39m(\u001b[32m10.08\u001b[39m, \u001b[32m10.08\u001b[39m),\n",
       "  \u001b[33mGeoPoint\u001b[39m(\u001b[32m9.84024\u001b[39m, \u001b[32m9.36\u001b[39m),\n",
       "  \u001b[33mGeoPoint\u001b[39m(\u001b[32m9.719999999999999\u001b[39m, \u001b[32m9.36\u001b[39m),\n",
       "  \u001b[33mGeoPoint\u001b[39m(\u001b[32m9.48024\u001b[39m, \u001b[32m9.36\u001b[39m),\n",
       "  \u001b[33mGeoPoint\u001b[39m(\u001b[32m10.08\u001b[39m, \u001b[32m10.08\u001b[39m),\n",
       "  \u001b[33mGeoPoint\u001b[39m(\u001b[32m10.56024\u001b[39m, \u001b[32m10.08\u001b[39m),\n",
       "  \u001b[33mGeoPoint\u001b[39m(\u001b[32m10.799999999999999\u001b[39m, \u001b[32m10.799999999999999\u001b[39m),\n",
       "  \u001b[33mGeoPoint\u001b[39m(\u001b[32m10.799999999999999\u001b[39m, \u001b[32m10.799999999999999\u001b[39m),\n",
       "  \u001b[33mGeoPoint\u001b[39m(\u001b[32m11.03976\u001b[39m, \u001b[32m10.799999999999999\u001b[39m),\n",
       "  \u001b[33mGeoPoint\u001b[39m(\u001b[32m9.36\u001b[39m, \u001b[32m9.36\u001b[39m),\n",
       "  \u001b[33mGeoPoint\u001b[39m(\u001b[32m8.64\u001b[39m, \u001b[32m8.64\u001b[39m),\n",
       "  \u001b[33mGeoPoint\u001b[39m(\u001b[32m9.36\u001b[39m, \u001b[32m9.36\u001b[39m),\n",
       "  \u001b[33mGeoPoint\u001b[39m(\u001b[32m8.28\u001b[39m, \u001b[32m7.92\u001b[39m),\n",
       "  \u001b[33mGeoPoint\u001b[39m(\u001b[32m7.92\u001b[39m, \u001b[32m7.92\u001b[39m),\n",
       "  \u001b[33mGeoPoint\u001b[39m(\u001b[32m9.0\u001b[39m, \u001b[32m8.64\u001b[39m),\n",
       "  \u001b[33mGeoPoint\u001b[39m(\u001b[32m7.92\u001b[39m, \u001b[32m7.92\u001b[39m),\n",
       "  \u001b[33mGeoPoint\u001b[39m(\u001b[32m10.799999999999999\u001b[39m, \u001b[32m10.799999999999999\u001b[39m),\n",
       "  \u001b[33mGeoPoint\u001b[39m(\u001b[32m11.28024\u001b[39m, \u001b[32m10.799999999999999\u001b[39m),\n",
       "  \u001b[33mGeoPoint\u001b[39m(\u001b[32m12.24\u001b[39m, \u001b[32m12.24\u001b[39m),\n",
       "  \u001b[33mGeoPoint\u001b[39m(\u001b[32m12.6\u001b[39m, \u001b[32m12.24\u001b[39m),\n",
       "...\n",
       "\u001b[36mscaledGeo\u001b[39m: \u001b[32mVector\u001b[39m[(\u001b[32mPtolemyString\u001b[39m, \u001b[32mGeoPoint\u001b[39m)] = \u001b[33mVector\u001b[39m(\n",
       "  (\n",
       "    \u001b[33mPtolemyString\u001b[39m(\n",
       "      \u001b[32m\"2.2.1\"\u001b[39m,\n",
       "      \u001b[32m\"Europe\"\u001b[39m,\n",
       "      \u001b[32m\"hibernia\"\u001b[39m,\n",
       "      \u001b[32m\"paralios\"\u001b[39m,\n",
       "      \u001b[32m\"pt_ll_1\"\u001b[39m,\n",
       "      \u001b[32m\"\\u0392\\u1f79\\u03c1\\u03b5\\u03b9\\u03bf\\u03bd \\u1f04\\u03ba\\u03c1\\u03bf\\u03bd\"\u001b[39m,\n",
       "      \u001b[32m\"\\u03b9\\u03b1\\u02b9\"\u001b[39m,\n",
       "      \u001b[32m\"\\u03be\\u03b1\\u02b9\"\u001b[39m,\n",
       "      \u001b[32m11.0\u001b[39m,\n",
       "      \u001b[32m\"11\"\u001b[39m,\n",
       "      \u001b[32m\"0.0\"\u001b[39m,\n",
       "      \u001b[32m11.0\u001b[39m,\n",
       "      \u001b[32m\"61\"\u001b[39m,\n",
       "      \u001b[32m\"0.0\"\u001b[39m\n",
       "    ),\n",
       "    \u001b[33mGeoPoint\u001b[39m(\u001b[32m7.92\u001b[39m, \u001b[32m7.92\u001b[39m)\n",
       "  ),\n",
       "  (\n",
       "    \u001b[33mPtolemyString\u001b[39m(\n",
       "      \u001b[32m\"2.2.1\"\u001b[39m,\n",
       "      \u001b[32m\"Europe\"\u001b[39m,\n",
       "      \u001b[32m\"hibernia\"\u001b[39m,\n",
       "      \u001b[32m\"paralios\"\u001b[39m,\n",
       "      \u001b[32m\"pt_ll_2\"\u001b[39m,\n",
       "      \u001b[32m\"\\u039f\\u1f50\\u03b5\\u03bd\\u03bd\\u1f77\\u03ba\\u03bd\\u03b9\\u03bf\\u03bd \\u1f04\\u03ba\\u03c1\\u03bf\\u03bd\"\u001b[39m,\n",
       "      \u001b[32m\"\\u03b9\\u03b2\\u02b9\\u03b2  \\u03b3\\\"\"\u001b[39m,\n",
       "      \u001b[32m\"\\u03be\\u03b1\\u02b9\\u03b3\\\"\"\u001b[39m,\n",
       "      \u001b[32m12.833\u001b[39m,\n",
       "      \u001b[32m\"12\"\u001b[39m,\n",
       "      \u001b[32m\"0.833\"\u001b[39m,\n",
       "      \u001b[32m12.0\u001b[39m,\n",
       "      \u001b[32m\"61\"\u001b[39m,\n",
       "      \u001b[32m\"0.333\"\u001b[39m\n",
       "    ),\n",
       "..."
      ]
     },
     "execution_count": 6,
     "metadata": {},
     "output_type": "execute_result"
    }
   ],
   "source": [
    "val scaled = ptolStrings.map( pt => (GeoPoint(pt.lon * ratio, pt.lat * ratio  ) ))\n",
    "val scaledGeo = ptolStrings zip scaled"
   ]
  },
  {
   "cell_type": "markdown",
   "metadata": {},
   "source": [
    "## Load Pleiades equivalents"
   ]
  },
  {
   "cell_type": "code",
   "execution_count": 7,
   "metadata": {
    "collapsed": true
   },
   "outputs": [
    {
     "name": "stderr",
     "output_type": "stream",
     "text": [
      "Downloading https://repo1.maven.org/maven2/edu/holycross/shot/pleiades_2.12/1.1.0/pleiades_2.12-1.1.0.pom\n",
      "Downloaded https://repo1.maven.org/maven2/edu/holycross/shot/pleiades_2.12/1.1.0/pleiades_2.12-1.1.0.pom\n",
      "Downloading https://repo1.maven.org/maven2/edu/holycross/shot/pleiades_2.12/1.1.0/pleiades_2.12-1.1.0.pom.sha1\n",
      "Downloaded https://repo1.maven.org/maven2/edu/holycross/shot/pleiades_2.12/1.1.0/pleiades_2.12-1.1.0.pom.sha1\n",
      "Downloading https://dl.bintray.com/neelsmith/maven/edu/holycross/shot/pleiades_2.12/1.1.0/pleiades_2.12-1.1.0.pom\n",
      "Downloaded https://dl.bintray.com/neelsmith/maven/edu/holycross/shot/pleiades_2.12/1.1.0/pleiades_2.12-1.1.0.pom\n",
      "Downloading https://repo1.maven.org/maven2/org/wvlet/airframe/airframe-log_2.12/19.8.10/airframe-log_2.12-19.8.10.pom\n",
      "Downloaded https://repo1.maven.org/maven2/org/wvlet/airframe/airframe-log_2.12/19.8.10/airframe-log_2.12-19.8.10.pom\n",
      "Downloading https://repo1.maven.org/maven2/org/wvlet/airframe/airframe-log_2.12/19.8.10/airframe-log_2.12-19.8.10.jar\n",
      "Downloading https://dl.bintray.com/neelsmith/maven/edu/holycross/shot/pleiades_2.12/1.1.0/pleiades_2.12-1.1.0-sources.jar\n",
      "Downloading https://repo1.maven.org/maven2/org/wvlet/airframe/airframe-log_2.12/19.8.10/airframe-log_2.12-19.8.10-sources.jar\n",
      "Downloading https://dl.bintray.com/neelsmith/maven/edu/holycross/shot/pleiades_2.12/1.1.0/pleiades_2.12-1.1.0.jar\n",
      "Downloaded https://dl.bintray.com/neelsmith/maven/edu/holycross/shot/pleiades_2.12/1.1.0/pleiades_2.12-1.1.0-sources.jar\n",
      "Downloaded https://repo1.maven.org/maven2/org/wvlet/airframe/airframe-log_2.12/19.8.10/airframe-log_2.12-19.8.10-sources.jar\n",
      "Downloaded https://repo1.maven.org/maven2/org/wvlet/airframe/airframe-log_2.12/19.8.10/airframe-log_2.12-19.8.10.jar\n",
      "Downloaded https://dl.bintray.com/neelsmith/maven/edu/holycross/shot/pleiades_2.12/1.1.0/pleiades_2.12-1.1.0.jar\n"
     ]
    },
    {
     "data": {
      "text/plain": [
       "\u001b[32mimport \u001b[39m\u001b[36m$ivy.$                                   \n",
       "\u001b[39m\n",
       "\u001b[32mimport \u001b[39m\u001b[36medu.holycross.shot.pleiades._\u001b[39m"
      ]
     },
     "execution_count": 7,
     "metadata": {},
     "output_type": "execute_result"
    }
   ],
   "source": [
    "import $ivy.`edu.holycross.shot::pleiades:1.1.0`\n",
    "import edu.holycross.shot.pleiades._"
   ]
  },
  {
   "cell_type": "code",
   "execution_count": 8,
   "metadata": {
    "collapsed": true
   },
   "outputs": [
    {
     "name": "stderr",
     "output_type": "stream",
     "text": [
      "\u001b[34m2020-02-21 17:50:38.340Z\u001b[0m  \u001b[36minfo\u001b[0m [\u001b[37mPleiadesDataSource\u001b[0m] \u001b[36mLoading Pleiades place data...\u001b[0m  \u001b[34m- (PleiadesDataSource.scala:26)\u001b[0m\n",
      "\u001b[34m2020-02-21 17:50:40.063Z\u001b[0m  \u001b[36minfo\u001b[0m [\u001b[37mPleiadesPlaces\u001b[0m] \u001b[36mParsing 36835 pleiades place records.\u001b[0m  \u001b[34m- (PleiadesPlaces.scala:52)\u001b[0m\n",
      "\u001b[34m2020-02-21 17:50:41.046Z\u001b[0m  \u001b[36minfo\u001b[0m [\u001b[37mPleiadesPlaces\u001b[0m] \u001b[36mSuccessfully parsed 36835 places records.\u001b[0m  \u001b[34m- (PleiadesPlaces.scala:65)\u001b[0m\n",
      "\u001b[34m2020-02-21 17:50:41.052Z\u001b[0m  \u001b[36minfo\u001b[0m [\u001b[37mPleiadesDataSource\u001b[0m] \u001b[36mLoading Pleiades name data...\u001b[0m  \u001b[34m- (PleiadesDataSource.scala:28)\u001b[0m\n",
      "\u001b[34m2020-02-21 17:50:41.698Z\u001b[0m  \u001b[36minfo\u001b[0m [\u001b[37mPleiadesNames\u001b[0m] \u001b[36mParsing 32810 pleiades name records.\u001b[0m  \u001b[34m- (PleiadesNames.scala:39)\u001b[0m\n",
      "\u001b[34m2020-02-21 17:50:42.213Z\u001b[0m  \u001b[36minfo\u001b[0m [\u001b[37mPleiadesNames\u001b[0m] \u001b[36mSuccessfully parsed  32810 names records.\u001b[0m  \u001b[34m- (PleiadesNames.scala:48)\u001b[0m\n"
     ]
    },
    {
     "data": {
      "text/plain": [
       "\u001b[36mpleiades\u001b[39m: \u001b[32mPleiades\u001b[39m = \u001b[33mPleiades\u001b[39m(\n",
       "  \u001b[33mPleiadesPlaces\u001b[39m(\n",
       "    \u001b[33mVector\u001b[39m(\n",
       "      \u001b[33mPleiadesPlace\u001b[39m(\n",
       "        48210386,\n",
       "        \u001b[32m\"A major urban sanctuary at Vulci with a long period of use, stretching from the archaic period into the Roman period.\"\u001b[39m,\n",
       "        \u001b[33mSome\u001b[39m(\u001b[33mGeoPoint\u001b[39m(42.4193742, 11.6285463))\n",
       "      ),\n",
       "      \u001b[33mPleiadesPlace\u001b[39m(\n",
       "        265876,\n",
       "        \u001b[32m\"An ancient settlement, likely of Celtic origin, located near Consuegra south of Toledo.\"\u001b[39m,\n",
       "        \u001b[33mSome\u001b[39m(\u001b[33mGeoPoint\u001b[39m(39.460299, -3.606772))\n",
       "      ),\n",
       "      \u001b[33mPleiadesPlace\u001b[39m(\n",
       "        265877,\n",
       "        \u001b[32m\"Contestania was a region located in the southwest of Hispania Tarraconensis.\"\u001b[39m,\n",
       "        \u001b[33mSome\u001b[39m(\u001b[33mGeoPoint\u001b[39m(38.988847, -0.515639))\n",
       "      ),\n",
       "      \u001b[33mPleiadesPlace\u001b[39m(\n",
       "        265878,\n",
       "        \u001b[32m\"An ancient place, cited: BAtlas 27 C4 Cueva de la Paloma\"\u001b[39m,\n",
       "        \u001b[33mSome\u001b[39m(\u001b[33mGeoPoint\u001b[39m(37.241792, -2.403309))\n",
       "      ),\n",
       "      \u001b[33mPleiadesPlace\u001b[39m(\n",
       "        265880,\n",
       "        \u001b[32m\"An ancient place, cited: BAtlas 27 F3 Dianium/Hemeroskopeion\"\u001b[39m,\n",
       "        \u001b[33mSome\u001b[39m(\u001b[33mGeoPoint\u001b[39m(38.842795, 0.107511))\n",
       "      ),\n",
       "      \u001b[33mPleiadesPlace\u001b[39m(\n",
       "        265882,\n",
       "        \u001b[32m\"An ancient place, cited: BAtlas 27 B4 Ebura\"\u001b[39m,\n",
       "        \u001b[33mSome\u001b[39m(\u001b[33mGeoPoint\u001b[39m(37.463838, -3.924959))\n",
       "      ),\n",
       "      \u001b[33mPleiadesPlace\u001b[39m(\n",
       "        265883,\n",
       "        \u001b[32m\"An ancient place, cited: BAtlas 27 G3 Ebusus\"\u001b[39m,\n",
       "..."
      ]
     },
     "execution_count": 8,
     "metadata": {},
     "output_type": "execute_result"
    }
   ],
   "source": [
    "val pleiades = PleiadesDataSource.loadFromUrls()"
   ]
  },
  {
   "cell_type": "code",
   "execution_count": 9,
   "metadata": {},
   "outputs": [
    {
     "data": {
      "text/plain": [
       "\u001b[36mres8\u001b[39m: \u001b[32mOption\u001b[39m[\u001b[32mPleiadesPlace\u001b[39m] = \u001b[33mSome\u001b[39m(\n",
       "  \u001b[33mPleiadesPlace\u001b[39m(\n",
       "    814706,\n",
       "    \u001b[32m\"An ancient place, cited: BAtlas 83 D6 Mochoura\"\u001b[39m,\n",
       "    \u001b[33mSome\u001b[39m(\u001b[33mGeoPoint\u001b[39m(25.625369, 38.456374))\n",
       "  )\n",
       ")"
      ]
     },
     "execution_count": 9,
     "metadata": {},
     "output_type": "execute_result"
    }
   ],
   "source": [
    "pleiades.lookup(BigDecimal(814706))"
   ]
  },
  {
   "cell_type": "code",
   "execution_count": null,
   "metadata": {},
   "outputs": [],
   "source": []
  }
 ],
 "metadata": {
  "kernelspec": {
   "display_name": "Scala (2.12)",
   "language": "scala",
   "name": "scala212"
  },
  "language_info": {
   "codemirror_mode": "text/x-scala",
   "file_extension": ".scala",
   "mimetype": "text/x-scala",
   "name": "scala",
   "nbconvert_exporter": "script",
   "version": "2.12.10"
  }
 },
 "nbformat": 4,
 "nbformat_minor": 4
}
